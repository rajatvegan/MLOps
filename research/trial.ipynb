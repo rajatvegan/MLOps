{
 "cells": [
  {
   "cell_type": "code",
   "execution_count": 1,
   "id": "de7bbc77",
   "metadata": {},
   "outputs": [],
   "source": [
    "d1={\"key1\":\"value1\",\"key2\":\"value2\"}"
   ]
  },
  {
   "cell_type": "code",
   "execution_count": null,
   "id": "1729c383",
   "metadata": {},
   "outputs": [
    {
     "data": {
      "text/plain": [
       "'value2'"
      ]
     },
     "execution_count": 2,
     "metadata": {},
     "output_type": "execute_result"
    }
   ],
   "source": [
    "d1[\"key2\"]"
   ]
  },
  {
   "cell_type": "code",
   "execution_count": 3,
   "id": "3a915d10",
   "metadata": {},
   "outputs": [
    {
     "ename": "AttributeError",
     "evalue": "'dict' object has no attribute 'key2'",
     "output_type": "error",
     "traceback": [
      "\u001b[31m---------------------------------------------------------------------------\u001b[39m",
      "\u001b[31mAttributeError\u001b[39m                            Traceback (most recent call last)",
      "\u001b[36mCell\u001b[39m\u001b[36m \u001b[39m\u001b[32mIn[3]\u001b[39m\u001b[32m, line 1\u001b[39m\n\u001b[32m----> \u001b[39m\u001b[32m1\u001b[39m \u001b[43md1\u001b[49m\u001b[43m.\u001b[49m\u001b[43mkey2\u001b[49m\n",
      "\u001b[31mAttributeError\u001b[39m: 'dict' object has no attribute 'key2'"
     ]
    }
   ],
   "source": [
    "d1.key2"
   ]
  },
  {
   "cell_type": "code",
   "execution_count": 4,
   "id": "faff1337",
   "metadata": {},
   "outputs": [],
   "source": [
    "from box import ConfigBox"
   ]
  },
  {
   "cell_type": "code",
   "execution_count": 10,
   "id": "242bcacf",
   "metadata": {},
   "outputs": [],
   "source": [
    "d1=ConfigBox(d1)\n"
   ]
  },
  {
   "cell_type": "code",
   "execution_count": 11,
   "id": "15894159",
   "metadata": {},
   "outputs": [
    {
     "data": {
      "text/plain": [
       "'value2'"
      ]
     },
     "execution_count": 11,
     "metadata": {},
     "output_type": "execute_result"
    }
   ],
   "source": [
    "\n",
    "d1.key2"
   ]
  },
  {
   "cell_type": "code",
   "execution_count": 4,
   "id": "c122e8f4",
   "metadata": {},
   "outputs": [],
   "source": [
    "#go back this current directory\n",
    "import os\n",
    "os.chdir(\"..\")"
   ]
  },
  {
   "cell_type": "code",
   "execution_count": 5,
   "id": "ed2e6c14",
   "metadata": {},
   "outputs": [
    {
     "data": {
      "text/plain": [
       "'c:\\\\Users\\\\Rajat\\\\OneDrive\\\\Desktop\\\\STUDY\\\\MLOps'"
      ]
     },
     "execution_count": 5,
     "metadata": {},
     "output_type": "execute_result"
    }
   ],
   "source": [
    "pwd"
   ]
  },
  {
   "cell_type": "code",
   "execution_count": 6,
   "id": "eb8a4a41",
   "metadata": {},
   "outputs": [
    {
     "name": "stdout",
     "output_type": "stream",
     "text": [
      "✅ requirements.txt created with specified packages.\n"
     ]
    },
    {
     "name": "stderr",
     "output_type": "stream",
     "text": [
      "C:\\Users\\Rajat\\AppData\\Local\\Temp\\ipykernel_15984\\1005390114.py:1: UserWarning: pkg_resources is deprecated as an API. See https://setuptools.pypa.io/en/latest/pkg_resources.html. The pkg_resources package is slated for removal as early as 2025-11-30. Refrain from using this package or pin to Setuptools<81.\n",
      "  import pkg_resources\n"
     ]
    }
   ],
   "source": [
    "import pkg_resources\n",
    "\n",
    "# List of specific packages to include\n",
    "packages = [\n",
    "    \"mlflow\", \"boto3\", \"tensorflow\", \"pandas\", \"gdown\", \"dvc\", \"notebook\",\n",
    "    \"numpy\", \"matplotlib\", \"seaborn\", \"python-box\", \"pyyaml\", \"tqdm\",\n",
    "    \"ensure\", \"joblib\", \"types-PyYAML\", \"scipy\", \"flask\", \"flask-cors\"\n",
    "]\n",
    "\n",
    "# Create a dictionary of installed packages and their versions\n",
    "installed_packages = {pkg.key: pkg.version for pkg in pkg_resources.working_set}\n",
    "\n",
    "# Write only the listed packages with their versions to requirements.txt\n",
    "with open(\"requirements.txt\", \"w\") as f:\n",
    "    for package in packages:\n",
    "        pkg_key = package.lower().replace(\"_\", \"-\")\n",
    "        version = installed_packages.get(pkg_key)\n",
    "        if version:\n",
    "            f.write(f\"{package}=={version}\\n\")\n",
    "        else:\n",
    "            print(f\"⚠️ {package} is not installed.\")\n",
    "\n",
    "print(\"✅ requirements.txt created with specified packages.\")\n"
   ]
  }
 ],
 "metadata": {
  "kernelspec": {
   "display_name": ".mlflow",
   "language": "python",
   "name": "python3"
  },
  "language_info": {
   "codemirror_mode": {
    "name": "ipython",
    "version": 3
   },
   "file_extension": ".py",
   "mimetype": "text/x-python",
   "name": "python",
   "nbconvert_exporter": "python",
   "pygments_lexer": "ipython3",
   "version": "3.12.6"
  }
 },
 "nbformat": 4,
 "nbformat_minor": 5
}
